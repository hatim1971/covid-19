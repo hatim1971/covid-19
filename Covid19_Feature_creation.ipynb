{
  "nbformat": 4,
  "nbformat_minor": 0,
  "metadata": {
    "colab": {
      "name": "Covid19_Feature_creation.ipynb",
      "provenance": [],
      "collapsed_sections": [],
      "include_colab_link": true
    },
    "kernelspec": {
      "name": "python3",
      "display_name": "Python 3"
    }
  },
  "cells": [
    {
      "cell_type": "markdown",
      "metadata": {
        "id": "view-in-github",
        "colab_type": "text"
      },
      "source": [
        "<a href=\"https://colab.research.google.com/github/hatim1971/covid-19/blob/master/Covid19_Feature_creation.ipynb\" target=\"_parent\"><img src=\"https://colab.research.google.com/assets/colab-badge.svg\" alt=\"Open In Colab\"/></a>"
      ]
    },
    {
      "cell_type": "markdown",
      "metadata": {
        "id": "s8oA1RexLNmM",
        "colab_type": "text"
      },
      "source": [
        "# Feature creation notebook\n",
        "\n",
        "This notebook is the second in the COVID-19 project. It deals with the transformation and creation of features which will enable us to use machine learning and deep learning algorithms to predict the evolution of the infection through three countries: Italy, Iran and Spain.\n",
        "\n",
        "Time series forecasting is an important area of machine learning. However, while the time component adds additional information, it can not be used as such in machine learning or deep learning algorithms. Thus we have to transform the time component without loosing the information related to time, we will also add at least one feature to make models perform better.\n",
        "\n"
      ]
    },
    {
      "cell_type": "markdown",
      "metadata": {
        "id": "wmJIL04yUo1Z",
        "colab_type": "text"
      },
      "source": [
        "Let's create a function that will transform dates on a format used in the file paths"
      ]
    },
    {
      "cell_type": "code",
      "metadata": {
        "id": "Jq_rbgulLDzq",
        "colab_type": "code",
        "outputId": "aaf449e3-fde6-409a-dbcb-0b63f21a8a89",
        "colab": {
          "base_uri": "https://localhost:8080/",
          "height": 122
        }
      },
      "source": [
        "import pandas as pd\n",
        "import datetime as dt\n",
        "df_global, df_complete = pd.DataFrame(), pd.DataFrame()\n",
        "\n",
        "#data is available in github and provided by JHU and updated daily in separate files. (one file per day )\n",
        "#the structure of each url can be divided on two parts const_url and date_url\n",
        "const_url=\"https://raw.githubusercontent.com/CSSEGISandData/COVID-19/master/csse_covid_19_data/csse_covid_19_daily_reports/\"\n",
        "\n",
        "# Last update date\n",
        "date_update= '2020-03-18'\n",
        "\n",
        "# this function change time format from yyyy-mm-dd to dd-mm-yyyy\n",
        "import re\n",
        "def date_format(dt):\n",
        "        return re.sub(r'(\\d{4})-(\\d{1,2})-(\\d{1,2})', '\\\\2-\\\\3-\\\\1', dt)\n",
        "\n",
        "\n",
        "# this code generates the urls of data and load daily data\n",
        "timeframe=pd.date_range('2020-01-22', date_update)\n",
        "l=len(timeframe)\n",
        "for i in range(l):\n",
        "  d=str(timeframe[i]).replace(\"00:00:00\", \"\").strip()\n",
        "  dr= date_format(d)\n",
        "  part_url= str(dr)+'.csv'\n",
        "  file_url= const_url + part_url\n",
        "  dfi=pd.read_csv(file_url, usecols=[1,2,3])\n",
        "  dfic=pd.read_csv(file_url)\n",
        "  df_global=pd.concat([df_global,dfi], sort=False)\n",
        "  df_complete=pd.concat([df_complete,dfic], sort=False)\n",
        "\n",
        "#Some countries are reported with two or more different names. The objectif of this script is to fix this issue\n",
        "for i in range(df_global.shape[0]):\n",
        "  if df_global.iloc[i,1] == 'Iran (Islamic Republic of)':\n",
        "    df_global.iloc[i,1]='Iran'\n",
        "  if df_complete.iloc[i,1] == 'Iran (Islamic Republic of)':\n",
        "    df_complete.iloc[i,1]='Iran'\n",
        "\n",
        "for i in range(df_global.shape[0]):\n",
        "  if df_global.iloc[i,1] == 'Korea, South':\n",
        "    df_global.iloc[i,1]='South Korea'\n",
        "  if df_complete.iloc[i,1] == 'Korea, South':\n",
        "    df_complete.iloc[i,1]='South Korea'\n",
        "\n",
        "#create a dataframe that group data by country\n",
        "gc_global=df_global.groupby('Country/Region')\n",
        "\n",
        "# create dataframe of Italy \n",
        "df_it=gc_global.get_group('Italy')\n",
        "df_it.rename(columns={\"Last Update\": \"date\"}, inplace=True)\n",
        "df_it.reset_index(drop=True, inplace=True) # setting drop=True avoid adding new column index\n",
        "\n",
        "# create dataframe of Iran\n",
        "df_ir=gc_global.get_group('Iran')\n",
        "df_ir.rename(columns={\"Last Update\": \"date\"}, inplace=True)\n",
        "df_ir.reset_index(drop=True, inplace=True) # setting drop=True avoid adding new column index\n",
        "\n",
        "# create dataframe of Spain\n",
        "df_sp=gc_global.get_group('Spain')\n",
        "df_sp.rename(columns={\"Last Update\": \"date\"}, inplace=True)\n",
        "df_sp.reset_index(drop=True, inplace=True) # setting drop=True avoid adding new column index\n",
        "\n"
      ],
      "execution_count": 0,
      "outputs": [
        {
          "output_type": "stream",
          "text": [
            "/usr/local/lib/python3.6/dist-packages/pandas/core/frame.py:4238: SettingWithCopyWarning: \n",
            "A value is trying to be set on a copy of a slice from a DataFrame\n",
            "\n",
            "See the caveats in the documentation: http://pandas.pydata.org/pandas-docs/stable/user_guide/indexing.html#returning-a-view-versus-a-copy\n",
            "  return super().rename(**kwargs)\n"
          ],
          "name": "stderr"
        }
      ]
    },
    {
      "cell_type": "code",
      "metadata": {
        "id": "LBwQjgdf9Qlh",
        "colab_type": "code",
        "outputId": "116642f1-5871-4096-99b0-08ceba4251b9",
        "colab": {
          "base_uri": "https://localhost:8080/",
          "height": 204
        }
      },
      "source": [
        "df_it.head()"
      ],
      "execution_count": 0,
      "outputs": [
        {
          "output_type": "execute_result",
          "data": {
            "text/html": [
              "<div>\n",
              "<style scoped>\n",
              "    .dataframe tbody tr th:only-of-type {\n",
              "        vertical-align: middle;\n",
              "    }\n",
              "\n",
              "    .dataframe tbody tr th {\n",
              "        vertical-align: top;\n",
              "    }\n",
              "\n",
              "    .dataframe thead th {\n",
              "        text-align: right;\n",
              "    }\n",
              "</style>\n",
              "<table border=\"1\" class=\"dataframe\">\n",
              "  <thead>\n",
              "    <tr style=\"text-align: right;\">\n",
              "      <th></th>\n",
              "      <th>Country/Region</th>\n",
              "      <th>date</th>\n",
              "      <th>Confirmed</th>\n",
              "    </tr>\n",
              "  </thead>\n",
              "  <tbody>\n",
              "    <tr>\n",
              "      <th>0</th>\n",
              "      <td>Italy</td>\n",
              "      <td>1/31/2020 23:59</td>\n",
              "      <td>2.0</td>\n",
              "    </tr>\n",
              "    <tr>\n",
              "      <th>1</th>\n",
              "      <td>Italy</td>\n",
              "      <td>1/31/2020 8:15</td>\n",
              "      <td>2.0</td>\n",
              "    </tr>\n",
              "    <tr>\n",
              "      <th>2</th>\n",
              "      <td>Italy</td>\n",
              "      <td>2020-01-31T08:15:53</td>\n",
              "      <td>2.0</td>\n",
              "    </tr>\n",
              "    <tr>\n",
              "      <th>3</th>\n",
              "      <td>Italy</td>\n",
              "      <td>2020-01-31T08:15:53</td>\n",
              "      <td>2.0</td>\n",
              "    </tr>\n",
              "    <tr>\n",
              "      <th>4</th>\n",
              "      <td>Italy</td>\n",
              "      <td>2020-01-31T08:15:53</td>\n",
              "      <td>2.0</td>\n",
              "    </tr>\n",
              "  </tbody>\n",
              "</table>\n",
              "</div>"
            ],
            "text/plain": [
              "  Country/Region                 date  Confirmed\n",
              "0          Italy      1/31/2020 23:59        2.0\n",
              "1          Italy       1/31/2020 8:15        2.0\n",
              "2          Italy  2020-01-31T08:15:53        2.0\n",
              "3          Italy  2020-01-31T08:15:53        2.0\n",
              "4          Italy  2020-01-31T08:15:53        2.0"
            ]
          },
          "metadata": {
            "tags": []
          },
          "execution_count": 3
        }
      ]
    },
    {
      "cell_type": "code",
      "metadata": {
        "id": "D6KZ_Ewb1qAX",
        "colab_type": "code",
        "outputId": "d9bfd6ee-3548-4e11-b4de-c8a86de6c732",
        "colab": {
          "base_uri": "https://localhost:8080/",
          "height": 204
        }
      },
      "source": [
        "df_ir.head()"
      ],
      "execution_count": 0,
      "outputs": [
        {
          "output_type": "execute_result",
          "data": {
            "text/html": [
              "<div>\n",
              "<style scoped>\n",
              "    .dataframe tbody tr th:only-of-type {\n",
              "        vertical-align: middle;\n",
              "    }\n",
              "\n",
              "    .dataframe tbody tr th {\n",
              "        vertical-align: top;\n",
              "    }\n",
              "\n",
              "    .dataframe thead th {\n",
              "        text-align: right;\n",
              "    }\n",
              "</style>\n",
              "<table border=\"1\" class=\"dataframe\">\n",
              "  <thead>\n",
              "    <tr style=\"text-align: right;\">\n",
              "      <th></th>\n",
              "      <th>Country/Region</th>\n",
              "      <th>date</th>\n",
              "      <th>Confirmed</th>\n",
              "    </tr>\n",
              "  </thead>\n",
              "  <tbody>\n",
              "    <tr>\n",
              "      <th>0</th>\n",
              "      <td>Iran</td>\n",
              "      <td>2020-02-19T23:43:02</td>\n",
              "      <td>2.0</td>\n",
              "    </tr>\n",
              "    <tr>\n",
              "      <th>1</th>\n",
              "      <td>Iran</td>\n",
              "      <td>2020-02-20T17:33:02</td>\n",
              "      <td>5.0</td>\n",
              "    </tr>\n",
              "    <tr>\n",
              "      <th>2</th>\n",
              "      <td>Iran</td>\n",
              "      <td>2020-02-21T18:53:02</td>\n",
              "      <td>18.0</td>\n",
              "    </tr>\n",
              "    <tr>\n",
              "      <th>3</th>\n",
              "      <td>Iran</td>\n",
              "      <td>2020-02-22T10:03:05</td>\n",
              "      <td>28.0</td>\n",
              "    </tr>\n",
              "    <tr>\n",
              "      <th>4</th>\n",
              "      <td>Iran</td>\n",
              "      <td>2020-02-23T15:13:15</td>\n",
              "      <td>43.0</td>\n",
              "    </tr>\n",
              "  </tbody>\n",
              "</table>\n",
              "</div>"
            ],
            "text/plain": [
              "  Country/Region                 date  Confirmed\n",
              "0           Iran  2020-02-19T23:43:02        2.0\n",
              "1           Iran  2020-02-20T17:33:02        5.0\n",
              "2           Iran  2020-02-21T18:53:02       18.0\n",
              "3           Iran  2020-02-22T10:03:05       28.0\n",
              "4           Iran  2020-02-23T15:13:15       43.0"
            ]
          },
          "metadata": {
            "tags": []
          },
          "execution_count": 4
        }
      ]
    },
    {
      "cell_type": "code",
      "metadata": {
        "id": "s0q5-dAn1t4_",
        "colab_type": "code",
        "outputId": "f8293150-0b1f-46c4-e62f-256b1e174498",
        "colab": {
          "base_uri": "https://localhost:8080/",
          "height": 204
        }
      },
      "source": [
        "df_sp.head()"
      ],
      "execution_count": 0,
      "outputs": [
        {
          "output_type": "execute_result",
          "data": {
            "text/html": [
              "<div>\n",
              "<style scoped>\n",
              "    .dataframe tbody tr th:only-of-type {\n",
              "        vertical-align: middle;\n",
              "    }\n",
              "\n",
              "    .dataframe tbody tr th {\n",
              "        vertical-align: top;\n",
              "    }\n",
              "\n",
              "    .dataframe thead th {\n",
              "        text-align: right;\n",
              "    }\n",
              "</style>\n",
              "<table border=\"1\" class=\"dataframe\">\n",
              "  <thead>\n",
              "    <tr style=\"text-align: right;\">\n",
              "      <th></th>\n",
              "      <th>Country/Region</th>\n",
              "      <th>date</th>\n",
              "      <th>Confirmed</th>\n",
              "    </tr>\n",
              "  </thead>\n",
              "  <tbody>\n",
              "    <tr>\n",
              "      <th>0</th>\n",
              "      <td>Spain</td>\n",
              "      <td>2/1/2020 2:13</td>\n",
              "      <td>1.0</td>\n",
              "    </tr>\n",
              "    <tr>\n",
              "      <th>1</th>\n",
              "      <td>Spain</td>\n",
              "      <td>2020-02-01T23:43:02</td>\n",
              "      <td>1.0</td>\n",
              "    </tr>\n",
              "    <tr>\n",
              "      <th>2</th>\n",
              "      <td>Spain</td>\n",
              "      <td>2020-02-01T23:43:02</td>\n",
              "      <td>1.0</td>\n",
              "    </tr>\n",
              "    <tr>\n",
              "      <th>3</th>\n",
              "      <td>Spain</td>\n",
              "      <td>2020-02-01T23:43:02</td>\n",
              "      <td>1.0</td>\n",
              "    </tr>\n",
              "    <tr>\n",
              "      <th>4</th>\n",
              "      <td>Spain</td>\n",
              "      <td>2020-02-01T23:43:02</td>\n",
              "      <td>1.0</td>\n",
              "    </tr>\n",
              "  </tbody>\n",
              "</table>\n",
              "</div>"
            ],
            "text/plain": [
              "  Country/Region                 date  Confirmed\n",
              "0          Spain        2/1/2020 2:13        1.0\n",
              "1          Spain  2020-02-01T23:43:02        1.0\n",
              "2          Spain  2020-02-01T23:43:02        1.0\n",
              "3          Spain  2020-02-01T23:43:02        1.0\n",
              "4          Spain  2020-02-01T23:43:02        1.0"
            ]
          },
          "metadata": {
            "tags": []
          },
          "execution_count": 5
        }
      ]
    },
    {
      "cell_type": "markdown",
      "metadata": {
        "id": "9L7KtRCC9twF",
        "colab_type": "text"
      },
      "source": [
        "# **Feature Transformation**\n",
        "Time series forecasting is an important area of machine learning. However, while the time component adds additional information, it can not be used as such in machine learning or deep learning algorithms. Thus we have to transform the time component without loosing the information related to time.\n",
        "## **Using the starting point**\n",
        "The starting point for each country is the day that country had reached nearly 20 confirmed cases.\n",
        "This allows us to compare the trajectory of confirmed cases between countries.\n",
        "The infection trajectory is based on standarized date point (integer type) that show the evolution of the infection during time.\n",
        "The definition of the starting point enable us to have a common reference to appreciate the trajectory of the pandemic and see how a given country is flattening the curve.\n",
        "\n",
        "https://www.visualcapitalist.com/infection-trajectory-flattening-the-covid19-curve/\n",
        "\n"
      ]
    },
    {
      "cell_type": "code",
      "metadata": {
        "id": "cjrROXpL1-BZ",
        "colab_type": "code",
        "colab": {}
      },
      "source": [
        "# To implement the starting point we have to drop data that did not fit the condition \"confirmed cases nearly 20\"\n",
        "df_itt=df_it.copy()\n",
        "df_irt=df_ir.copy()\n",
        "df_spt=df_sp.copy()\n",
        "df_itt.drop(df_it.index[0:21], inplace=True)\n",
        "df_spt.drop(df_sp.index[0:26], inplace=True)\n",
        "df_irt.drop(df_ir.index[0:2], inplace=True)\n"
      ],
      "execution_count": 0,
      "outputs": []
    },
    {
      "cell_type": "code",
      "metadata": {
        "id": "3ffzPtm0hiuX",
        "colab_type": "code",
        "outputId": "9f7aae5d-0d44-471b-bfef-a659a03a3786",
        "colab": {
          "base_uri": "https://localhost:8080/",
          "height": 204
        }
      },
      "source": [
        "df_itt.head()"
      ],
      "execution_count": 0,
      "outputs": [
        {
          "output_type": "execute_result",
          "data": {
            "text/html": [
              "<div>\n",
              "<style scoped>\n",
              "    .dataframe tbody tr th:only-of-type {\n",
              "        vertical-align: middle;\n",
              "    }\n",
              "\n",
              "    .dataframe tbody tr th {\n",
              "        vertical-align: top;\n",
              "    }\n",
              "\n",
              "    .dataframe thead th {\n",
              "        text-align: right;\n",
              "    }\n",
              "</style>\n",
              "<table border=\"1\" class=\"dataframe\">\n",
              "  <thead>\n",
              "    <tr style=\"text-align: right;\">\n",
              "      <th></th>\n",
              "      <th>Country/Region</th>\n",
              "      <th>date</th>\n",
              "      <th>Confirmed</th>\n",
              "    </tr>\n",
              "  </thead>\n",
              "  <tbody>\n",
              "    <tr>\n",
              "      <th>21</th>\n",
              "      <td>Italy</td>\n",
              "      <td>2020-02-21T23:33:06</td>\n",
              "      <td>20.0</td>\n",
              "    </tr>\n",
              "    <tr>\n",
              "      <th>22</th>\n",
              "      <td>Italy</td>\n",
              "      <td>2020-02-22T23:43:02</td>\n",
              "      <td>62.0</td>\n",
              "    </tr>\n",
              "    <tr>\n",
              "      <th>23</th>\n",
              "      <td>Italy</td>\n",
              "      <td>2020-02-23T23:43:02</td>\n",
              "      <td>155.0</td>\n",
              "    </tr>\n",
              "    <tr>\n",
              "      <th>24</th>\n",
              "      <td>Italy</td>\n",
              "      <td>2020-02-24T23:43:01</td>\n",
              "      <td>229.0</td>\n",
              "    </tr>\n",
              "    <tr>\n",
              "      <th>25</th>\n",
              "      <td>Italy</td>\n",
              "      <td>2020-02-25T18:55:32</td>\n",
              "      <td>322.0</td>\n",
              "    </tr>\n",
              "  </tbody>\n",
              "</table>\n",
              "</div>"
            ],
            "text/plain": [
              "   Country/Region                 date  Confirmed\n",
              "21          Italy  2020-02-21T23:33:06       20.0\n",
              "22          Italy  2020-02-22T23:43:02       62.0\n",
              "23          Italy  2020-02-23T23:43:02      155.0\n",
              "24          Italy  2020-02-24T23:43:01      229.0\n",
              "25          Italy  2020-02-25T18:55:32      322.0"
            ]
          },
          "metadata": {
            "tags": []
          },
          "execution_count": 7
        }
      ]
    },
    {
      "cell_type": "code",
      "metadata": {
        "id": "G4pQpzUVFpdX",
        "colab_type": "code",
        "outputId": "33439fc4-c6d2-4b95-beeb-07a5d7a6b3ea",
        "colab": {
          "base_uri": "https://localhost:8080/",
          "height": 204
        }
      },
      "source": [
        "df_irt.head()"
      ],
      "execution_count": 0,
      "outputs": [
        {
          "output_type": "execute_result",
          "data": {
            "text/html": [
              "<div>\n",
              "<style scoped>\n",
              "    .dataframe tbody tr th:only-of-type {\n",
              "        vertical-align: middle;\n",
              "    }\n",
              "\n",
              "    .dataframe tbody tr th {\n",
              "        vertical-align: top;\n",
              "    }\n",
              "\n",
              "    .dataframe thead th {\n",
              "        text-align: right;\n",
              "    }\n",
              "</style>\n",
              "<table border=\"1\" class=\"dataframe\">\n",
              "  <thead>\n",
              "    <tr style=\"text-align: right;\">\n",
              "      <th></th>\n",
              "      <th>Country/Region</th>\n",
              "      <th>date</th>\n",
              "      <th>Confirmed</th>\n",
              "    </tr>\n",
              "  </thead>\n",
              "  <tbody>\n",
              "    <tr>\n",
              "      <th>2</th>\n",
              "      <td>Iran</td>\n",
              "      <td>2020-02-21T18:53:02</td>\n",
              "      <td>18.0</td>\n",
              "    </tr>\n",
              "    <tr>\n",
              "      <th>3</th>\n",
              "      <td>Iran</td>\n",
              "      <td>2020-02-22T10:03:05</td>\n",
              "      <td>28.0</td>\n",
              "    </tr>\n",
              "    <tr>\n",
              "      <th>4</th>\n",
              "      <td>Iran</td>\n",
              "      <td>2020-02-23T15:13:15</td>\n",
              "      <td>43.0</td>\n",
              "    </tr>\n",
              "    <tr>\n",
              "      <th>5</th>\n",
              "      <td>Iran</td>\n",
              "      <td>2020-02-24T11:13:10</td>\n",
              "      <td>61.0</td>\n",
              "    </tr>\n",
              "    <tr>\n",
              "      <th>6</th>\n",
              "      <td>Iran</td>\n",
              "      <td>2020-02-25T14:53:03</td>\n",
              "      <td>95.0</td>\n",
              "    </tr>\n",
              "  </tbody>\n",
              "</table>\n",
              "</div>"
            ],
            "text/plain": [
              "  Country/Region                 date  Confirmed\n",
              "2           Iran  2020-02-21T18:53:02       18.0\n",
              "3           Iran  2020-02-22T10:03:05       28.0\n",
              "4           Iran  2020-02-23T15:13:15       43.0\n",
              "5           Iran  2020-02-24T11:13:10       61.0\n",
              "6           Iran  2020-02-25T14:53:03       95.0"
            ]
          },
          "metadata": {
            "tags": []
          },
          "execution_count": 8
        }
      ]
    },
    {
      "cell_type": "code",
      "metadata": {
        "id": "2r-opkQEFtZ2",
        "colab_type": "code",
        "outputId": "d538d06b-698e-43ac-f302-0de6d161b390",
        "colab": {
          "base_uri": "https://localhost:8080/",
          "height": 204
        }
      },
      "source": [
        "df_spt.head()"
      ],
      "execution_count": 0,
      "outputs": [
        {
          "output_type": "execute_result",
          "data": {
            "text/html": [
              "<div>\n",
              "<style scoped>\n",
              "    .dataframe tbody tr th:only-of-type {\n",
              "        vertical-align: middle;\n",
              "    }\n",
              "\n",
              "    .dataframe tbody tr th {\n",
              "        vertical-align: top;\n",
              "    }\n",
              "\n",
              "    .dataframe thead th {\n",
              "        text-align: right;\n",
              "    }\n",
              "</style>\n",
              "<table border=\"1\" class=\"dataframe\">\n",
              "  <thead>\n",
              "    <tr style=\"text-align: right;\">\n",
              "      <th></th>\n",
              "      <th>Country/Region</th>\n",
              "      <th>date</th>\n",
              "      <th>Confirmed</th>\n",
              "    </tr>\n",
              "  </thead>\n",
              "  <tbody>\n",
              "    <tr>\n",
              "      <th>26</th>\n",
              "      <td>Spain</td>\n",
              "      <td>2020-02-27T13:23:02</td>\n",
              "      <td>15.0</td>\n",
              "    </tr>\n",
              "    <tr>\n",
              "      <th>27</th>\n",
              "      <td>Spain</td>\n",
              "      <td>2020-02-28T15:33:03</td>\n",
              "      <td>32.0</td>\n",
              "    </tr>\n",
              "    <tr>\n",
              "      <th>28</th>\n",
              "      <td>Spain</td>\n",
              "      <td>2020-02-29T19:13:08</td>\n",
              "      <td>45.0</td>\n",
              "    </tr>\n",
              "    <tr>\n",
              "      <th>29</th>\n",
              "      <td>Spain</td>\n",
              "      <td>2020-03-01T23:33:03</td>\n",
              "      <td>84.0</td>\n",
              "    </tr>\n",
              "    <tr>\n",
              "      <th>30</th>\n",
              "      <td>Spain</td>\n",
              "      <td>2020-03-02T14:43:05</td>\n",
              "      <td>120.0</td>\n",
              "    </tr>\n",
              "  </tbody>\n",
              "</table>\n",
              "</div>"
            ],
            "text/plain": [
              "   Country/Region                 date  Confirmed\n",
              "26          Spain  2020-02-27T13:23:02       15.0\n",
              "27          Spain  2020-02-28T15:33:03       32.0\n",
              "28          Spain  2020-02-29T19:13:08       45.0\n",
              "29          Spain  2020-03-01T23:33:03       84.0\n",
              "30          Spain  2020-03-02T14:43:05      120.0"
            ]
          },
          "metadata": {
            "tags": []
          },
          "execution_count": 9
        }
      ]
    },
    {
      "cell_type": "markdown",
      "metadata": {
        "id": "ZFGXL9okF3f9",
        "colab_type": "text"
      },
      "source": [
        "## **Transforming time series data**\n",
        "A specific date in itself isn't relevant, because the trajectory of the COVID-19 pandemic depends on several parameters and strategies deployed by countries.      \n",
        "Thus we have to transform time series given the starting day for each country. \n",
        "Data will be transformed from %Y-%m-%dT%H:%M:%S to integer type which measure the number of days since the 20th confirmed case."
      ]
    },
    {
      "cell_type": "code",
      "metadata": {
        "id": "ThmLLywTHxv5",
        "colab_type": "code",
        "colab": {}
      },
      "source": [
        "# Scaling datetime for Iran, day1 = 2020-02-21\n",
        "from datetime import datetime,timedelta\n",
        "ev_ir=df_irt.copy()\n",
        "Format = '%Y-%m-%dT%H:%M:%S'\n",
        "datelist = ev_ir['date']\n",
        "ev_ir['date'] = datelist.map(lambda x : (datetime.strptime(x, Format)- datetime.strptime(\"2020-02-20T00:00:00\", Format)).days  )\n",
        "ev_ir.reset_index(inplace=True, drop=True)\n",
        "\n",
        "# Scaling datetime for Italy, day1 = 2020-02-21\n",
        "from datetime import datetime,timedelta\n",
        "ev_it=df_itt.copy()\n",
        "Format = '%Y-%m-%dT%H:%M:%S'\n",
        "datelist = ev_it['date']\n",
        "ev_it['date'] = datelist.map(lambda x : (datetime.strptime(x, Format)- datetime.strptime(\"2020-02-20T00:00:00\", Format)).days)\n",
        "ev_it.reset_index(inplace=True, drop=True)\n",
        "ev_it.drop(ev_it.index[20], inplace=True)\n",
        "\n",
        "# Scaling datetime for Spain, day1 = 2020-02-27\n",
        "from datetime import datetime,timedelta\n",
        "ev_esp=df_spt.copy()\n",
        "Format = '%Y-%m-%dT%H:%M:%S'\n",
        "datelist = ev_esp['date']\n",
        "ev_esp['date'] = datelist.map(lambda x : (datetime.strptime(x, Format)- datetime.strptime(\"2020-02-26T00:00:00\", Format)).days)\n",
        "ev_esp.reset_index(inplace=True, drop=True)\n",
        "ev_esp.drop(ev_esp.index[14], inplace=True)\n",
        "\n",
        "for i in range(ev_it.shape[0]):\n",
        "  ev_it.iloc[[i],[1]]=i+1\n",
        "for i in range(ev_ir.shape[0]):\n",
        "  ev_ir.iloc[[i],[1]]=i+1\n",
        "for i in range(ev_esp.shape[0]):\n",
        "  ev_esp.iloc[[i],[1]]=i+1"
      ],
      "execution_count": 0,
      "outputs": []
    },
    {
      "cell_type": "code",
      "metadata": {
        "id": "AfUiXxTOpYac",
        "colab_type": "code",
        "outputId": "b3af1fe1-5090-48ff-9f86-5141ccee6193",
        "colab": {
          "base_uri": "https://localhost:8080/",
          "height": 204
        }
      },
      "source": [
        "ev_it.head()"
      ],
      "execution_count": 0,
      "outputs": [
        {
          "output_type": "execute_result",
          "data": {
            "text/html": [
              "<div>\n",
              "<style scoped>\n",
              "    .dataframe tbody tr th:only-of-type {\n",
              "        vertical-align: middle;\n",
              "    }\n",
              "\n",
              "    .dataframe tbody tr th {\n",
              "        vertical-align: top;\n",
              "    }\n",
              "\n",
              "    .dataframe thead th {\n",
              "        text-align: right;\n",
              "    }\n",
              "</style>\n",
              "<table border=\"1\" class=\"dataframe\">\n",
              "  <thead>\n",
              "    <tr style=\"text-align: right;\">\n",
              "      <th></th>\n",
              "      <th>Country/Region</th>\n",
              "      <th>date</th>\n",
              "      <th>Confirmed</th>\n",
              "    </tr>\n",
              "  </thead>\n",
              "  <tbody>\n",
              "    <tr>\n",
              "      <th>0</th>\n",
              "      <td>Italy</td>\n",
              "      <td>1</td>\n",
              "      <td>20.0</td>\n",
              "    </tr>\n",
              "    <tr>\n",
              "      <th>1</th>\n",
              "      <td>Italy</td>\n",
              "      <td>2</td>\n",
              "      <td>62.0</td>\n",
              "    </tr>\n",
              "    <tr>\n",
              "      <th>2</th>\n",
              "      <td>Italy</td>\n",
              "      <td>3</td>\n",
              "      <td>155.0</td>\n",
              "    </tr>\n",
              "    <tr>\n",
              "      <th>3</th>\n",
              "      <td>Italy</td>\n",
              "      <td>4</td>\n",
              "      <td>229.0</td>\n",
              "    </tr>\n",
              "    <tr>\n",
              "      <th>4</th>\n",
              "      <td>Italy</td>\n",
              "      <td>5</td>\n",
              "      <td>322.0</td>\n",
              "    </tr>\n",
              "  </tbody>\n",
              "</table>\n",
              "</div>"
            ],
            "text/plain": [
              "  Country/Region  date  Confirmed\n",
              "0          Italy     1       20.0\n",
              "1          Italy     2       62.0\n",
              "2          Italy     3      155.0\n",
              "3          Italy     4      229.0\n",
              "4          Italy     5      322.0"
            ]
          },
          "metadata": {
            "tags": []
          },
          "execution_count": 11
        }
      ]
    },
    {
      "cell_type": "code",
      "metadata": {
        "id": "fgAxr2xqwdXi",
        "colab_type": "code",
        "outputId": "65b65878-ae81-4ab1-f0b8-056404ed27d4",
        "colab": {
          "base_uri": "https://localhost:8080/",
          "height": 204
        }
      },
      "source": [
        "ev_ir.head()"
      ],
      "execution_count": 0,
      "outputs": [
        {
          "output_type": "execute_result",
          "data": {
            "text/html": [
              "<div>\n",
              "<style scoped>\n",
              "    .dataframe tbody tr th:only-of-type {\n",
              "        vertical-align: middle;\n",
              "    }\n",
              "\n",
              "    .dataframe tbody tr th {\n",
              "        vertical-align: top;\n",
              "    }\n",
              "\n",
              "    .dataframe thead th {\n",
              "        text-align: right;\n",
              "    }\n",
              "</style>\n",
              "<table border=\"1\" class=\"dataframe\">\n",
              "  <thead>\n",
              "    <tr style=\"text-align: right;\">\n",
              "      <th></th>\n",
              "      <th>Country/Region</th>\n",
              "      <th>date</th>\n",
              "      <th>Confirmed</th>\n",
              "    </tr>\n",
              "  </thead>\n",
              "  <tbody>\n",
              "    <tr>\n",
              "      <th>0</th>\n",
              "      <td>Iran</td>\n",
              "      <td>1</td>\n",
              "      <td>18.0</td>\n",
              "    </tr>\n",
              "    <tr>\n",
              "      <th>1</th>\n",
              "      <td>Iran</td>\n",
              "      <td>2</td>\n",
              "      <td>28.0</td>\n",
              "    </tr>\n",
              "    <tr>\n",
              "      <th>2</th>\n",
              "      <td>Iran</td>\n",
              "      <td>3</td>\n",
              "      <td>43.0</td>\n",
              "    </tr>\n",
              "    <tr>\n",
              "      <th>3</th>\n",
              "      <td>Iran</td>\n",
              "      <td>4</td>\n",
              "      <td>61.0</td>\n",
              "    </tr>\n",
              "    <tr>\n",
              "      <th>4</th>\n",
              "      <td>Iran</td>\n",
              "      <td>5</td>\n",
              "      <td>95.0</td>\n",
              "    </tr>\n",
              "  </tbody>\n",
              "</table>\n",
              "</div>"
            ],
            "text/plain": [
              "  Country/Region  date  Confirmed\n",
              "0           Iran     1       18.0\n",
              "1           Iran     2       28.0\n",
              "2           Iran     3       43.0\n",
              "3           Iran     4       61.0\n",
              "4           Iran     5       95.0"
            ]
          },
          "metadata": {
            "tags": []
          },
          "execution_count": 12
        }
      ]
    },
    {
      "cell_type": "code",
      "metadata": {
        "id": "_4ixbt-owY8_",
        "colab_type": "code",
        "outputId": "23fdccbf-8c60-4d82-9283-a88896727428",
        "colab": {
          "base_uri": "https://localhost:8080/",
          "height": 204
        }
      },
      "source": [
        "ev_esp.head()"
      ],
      "execution_count": 0,
      "outputs": [
        {
          "output_type": "execute_result",
          "data": {
            "text/html": [
              "<div>\n",
              "<style scoped>\n",
              "    .dataframe tbody tr th:only-of-type {\n",
              "        vertical-align: middle;\n",
              "    }\n",
              "\n",
              "    .dataframe tbody tr th {\n",
              "        vertical-align: top;\n",
              "    }\n",
              "\n",
              "    .dataframe thead th {\n",
              "        text-align: right;\n",
              "    }\n",
              "</style>\n",
              "<table border=\"1\" class=\"dataframe\">\n",
              "  <thead>\n",
              "    <tr style=\"text-align: right;\">\n",
              "      <th></th>\n",
              "      <th>Country/Region</th>\n",
              "      <th>date</th>\n",
              "      <th>Confirmed</th>\n",
              "    </tr>\n",
              "  </thead>\n",
              "  <tbody>\n",
              "    <tr>\n",
              "      <th>0</th>\n",
              "      <td>Spain</td>\n",
              "      <td>1</td>\n",
              "      <td>15.0</td>\n",
              "    </tr>\n",
              "    <tr>\n",
              "      <th>1</th>\n",
              "      <td>Spain</td>\n",
              "      <td>2</td>\n",
              "      <td>32.0</td>\n",
              "    </tr>\n",
              "    <tr>\n",
              "      <th>2</th>\n",
              "      <td>Spain</td>\n",
              "      <td>3</td>\n",
              "      <td>45.0</td>\n",
              "    </tr>\n",
              "    <tr>\n",
              "      <th>3</th>\n",
              "      <td>Spain</td>\n",
              "      <td>4</td>\n",
              "      <td>84.0</td>\n",
              "    </tr>\n",
              "    <tr>\n",
              "      <th>4</th>\n",
              "      <td>Spain</td>\n",
              "      <td>5</td>\n",
              "      <td>120.0</td>\n",
              "    </tr>\n",
              "  </tbody>\n",
              "</table>\n",
              "</div>"
            ],
            "text/plain": [
              "  Country/Region  date  Confirmed\n",
              "0          Spain     1       15.0\n",
              "1          Spain     2       32.0\n",
              "2          Spain     3       45.0\n",
              "3          Spain     4       84.0\n",
              "4          Spain     5      120.0"
            ]
          },
          "metadata": {
            "tags": []
          },
          "execution_count": 13
        }
      ]
    },
    {
      "cell_type": "markdown",
      "metadata": {
        "id": "jAO9m3pSxEzL",
        "colab_type": "text"
      },
      "source": [
        "# Feature Creation\n",
        "We can phrase the problem as a regression problem.\n",
        "\n",
        "That is, given the number of confirmed cases in a given date, what is the number of confirmed cases in the day after.\n",
        "\n",
        "We can write a simple function to convert our two columns of data into a three-column dataset: the first column containing the day from starting point, the second column containing the confirmed cases count and the third column containing next day confirmed cases, to be predicted.\n",
        "\n",
        "Thus, we will have features and labeled data to build our model in a supervised learning context.\n",
        "\n",
        "Supervised learning is the machine learning task of learning a function that maps an input to an output based on example input-output pairs. ... A supervised learning algorithm analyzes the training data and produces an inferred function, which can be used for mapping new examples.\n"
      ]
    },
    {
      "cell_type": "markdown",
      "metadata": {
        "id": "mikK4Vk7f952",
        "colab_type": "text"
      },
      "source": [
        "### **Feature creation: using the t+1 output**.\n",
        "\n",
        "This is called a window, and the size of the window is a parameter that can be tuned for each problem.\n",
        "\n",
        "For example, given the current time (t) we want to predict the value at the next time in the sequence (t+1), we can use the current time (t), as well as the two prior times (t-1 and t-2) as input variables.\n",
        "\n",
        "When phrased as a regression problem, the input variables are t-2, t-1, t and the output variable is t+1.\n",
        "\n",
        "The create_dataset() function we created in the previous section allows us to create this formulation of the time series problem by increasing the look_back argument from 1 to 3.**"
      ]
    },
    {
      "cell_type": "code",
      "metadata": {
        "id": "JGYvnZBaGM31",
        "colab_type": "code",
        "colab": {}
      },
      "source": [
        "# convert a two columns dataframe into a three column dataframe with the new created feature\n",
        "def create_new_feature(df):\n",
        "  list_feature=[]\n",
        "  for i in range(df.shape[0]-1):\n",
        "    list_feature.append(df.iloc[i+1,2])\n",
        "\n",
        "  list_feature.append(0)\n",
        "  df['New Cases']= list_feature\n",
        "  "
      ],
      "execution_count": 0,
      "outputs": []
    },
    {
      "cell_type": "code",
      "metadata": {
        "id": "buNUW1KSJkWH",
        "colab_type": "code",
        "outputId": "626e7183-6247-4a94-d626-1831bf3fe26c",
        "colab": {
          "base_uri": "https://localhost:8080/",
          "height": 204
        }
      },
      "source": [
        "create_new_feature(ev_esp)\n",
        "ev_esp.head()"
      ],
      "execution_count": 0,
      "outputs": [
        {
          "output_type": "execute_result",
          "data": {
            "text/html": [
              "<div>\n",
              "<style scoped>\n",
              "    .dataframe tbody tr th:only-of-type {\n",
              "        vertical-align: middle;\n",
              "    }\n",
              "\n",
              "    .dataframe tbody tr th {\n",
              "        vertical-align: top;\n",
              "    }\n",
              "\n",
              "    .dataframe thead th {\n",
              "        text-align: right;\n",
              "    }\n",
              "</style>\n",
              "<table border=\"1\" class=\"dataframe\">\n",
              "  <thead>\n",
              "    <tr style=\"text-align: right;\">\n",
              "      <th></th>\n",
              "      <th>Country/Region</th>\n",
              "      <th>date</th>\n",
              "      <th>Confirmed</th>\n",
              "      <th>New Cases</th>\n",
              "    </tr>\n",
              "  </thead>\n",
              "  <tbody>\n",
              "    <tr>\n",
              "      <th>0</th>\n",
              "      <td>Spain</td>\n",
              "      <td>1</td>\n",
              "      <td>15.0</td>\n",
              "      <td>32.0</td>\n",
              "    </tr>\n",
              "    <tr>\n",
              "      <th>1</th>\n",
              "      <td>Spain</td>\n",
              "      <td>2</td>\n",
              "      <td>32.0</td>\n",
              "      <td>45.0</td>\n",
              "    </tr>\n",
              "    <tr>\n",
              "      <th>2</th>\n",
              "      <td>Spain</td>\n",
              "      <td>3</td>\n",
              "      <td>45.0</td>\n",
              "      <td>84.0</td>\n",
              "    </tr>\n",
              "    <tr>\n",
              "      <th>3</th>\n",
              "      <td>Spain</td>\n",
              "      <td>4</td>\n",
              "      <td>84.0</td>\n",
              "      <td>120.0</td>\n",
              "    </tr>\n",
              "    <tr>\n",
              "      <th>4</th>\n",
              "      <td>Spain</td>\n",
              "      <td>5</td>\n",
              "      <td>120.0</td>\n",
              "      <td>165.0</td>\n",
              "    </tr>\n",
              "  </tbody>\n",
              "</table>\n",
              "</div>"
            ],
            "text/plain": [
              "  Country/Region  date  Confirmed  New Cases\n",
              "0          Spain     1       15.0       32.0\n",
              "1          Spain     2       32.0       45.0\n",
              "2          Spain     3       45.0       84.0\n",
              "3          Spain     4       84.0      120.0\n",
              "4          Spain     5      120.0      165.0"
            ]
          },
          "metadata": {
            "tags": []
          },
          "execution_count": 61
        }
      ]
    },
    {
      "cell_type": "code",
      "metadata": {
        "id": "L8qVECoENuSz",
        "colab_type": "code",
        "outputId": "6c9dcb7e-ba74-41b7-a3a8-b3f7529a0ae1",
        "colab": {
          "base_uri": "https://localhost:8080/",
          "height": 204
        }
      },
      "source": [
        "create_new_feature(ev_it)\n",
        "ev_it.head()"
      ],
      "execution_count": 0,
      "outputs": [
        {
          "output_type": "execute_result",
          "data": {
            "text/html": [
              "<div>\n",
              "<style scoped>\n",
              "    .dataframe tbody tr th:only-of-type {\n",
              "        vertical-align: middle;\n",
              "    }\n",
              "\n",
              "    .dataframe tbody tr th {\n",
              "        vertical-align: top;\n",
              "    }\n",
              "\n",
              "    .dataframe thead th {\n",
              "        text-align: right;\n",
              "    }\n",
              "</style>\n",
              "<table border=\"1\" class=\"dataframe\">\n",
              "  <thead>\n",
              "    <tr style=\"text-align: right;\">\n",
              "      <th></th>\n",
              "      <th>Country/Region</th>\n",
              "      <th>date</th>\n",
              "      <th>Confirmed</th>\n",
              "      <th>New Cases</th>\n",
              "    </tr>\n",
              "  </thead>\n",
              "  <tbody>\n",
              "    <tr>\n",
              "      <th>0</th>\n",
              "      <td>Italy</td>\n",
              "      <td>1</td>\n",
              "      <td>20.0</td>\n",
              "      <td>62.0</td>\n",
              "    </tr>\n",
              "    <tr>\n",
              "      <th>1</th>\n",
              "      <td>Italy</td>\n",
              "      <td>2</td>\n",
              "      <td>62.0</td>\n",
              "      <td>155.0</td>\n",
              "    </tr>\n",
              "    <tr>\n",
              "      <th>2</th>\n",
              "      <td>Italy</td>\n",
              "      <td>3</td>\n",
              "      <td>155.0</td>\n",
              "      <td>229.0</td>\n",
              "    </tr>\n",
              "    <tr>\n",
              "      <th>3</th>\n",
              "      <td>Italy</td>\n",
              "      <td>4</td>\n",
              "      <td>229.0</td>\n",
              "      <td>322.0</td>\n",
              "    </tr>\n",
              "    <tr>\n",
              "      <th>4</th>\n",
              "      <td>Italy</td>\n",
              "      <td>5</td>\n",
              "      <td>322.0</td>\n",
              "      <td>453.0</td>\n",
              "    </tr>\n",
              "  </tbody>\n",
              "</table>\n",
              "</div>"
            ],
            "text/plain": [
              "  Country/Region  date  Confirmed  New Cases\n",
              "0          Italy     1       20.0       62.0\n",
              "1          Italy     2       62.0      155.0\n",
              "2          Italy     3      155.0      229.0\n",
              "3          Italy     4      229.0      322.0\n",
              "4          Italy     5      322.0      453.0"
            ]
          },
          "metadata": {
            "tags": []
          },
          "execution_count": 62
        }
      ]
    },
    {
      "cell_type": "code",
      "metadata": {
        "id": "nvkeIFFZN06e",
        "colab_type": "code",
        "outputId": "e7fd46dc-86a1-4b22-a10f-8e1d86bd50bc",
        "colab": {
          "base_uri": "https://localhost:8080/",
          "height": 204
        }
      },
      "source": [
        "create_new_feature(ev_ir)\n",
        "ev_ir.head()"
      ],
      "execution_count": 0,
      "outputs": [
        {
          "output_type": "execute_result",
          "data": {
            "text/html": [
              "<div>\n",
              "<style scoped>\n",
              "    .dataframe tbody tr th:only-of-type {\n",
              "        vertical-align: middle;\n",
              "    }\n",
              "\n",
              "    .dataframe tbody tr th {\n",
              "        vertical-align: top;\n",
              "    }\n",
              "\n",
              "    .dataframe thead th {\n",
              "        text-align: right;\n",
              "    }\n",
              "</style>\n",
              "<table border=\"1\" class=\"dataframe\">\n",
              "  <thead>\n",
              "    <tr style=\"text-align: right;\">\n",
              "      <th></th>\n",
              "      <th>Country/Region</th>\n",
              "      <th>date</th>\n",
              "      <th>Confirmed</th>\n",
              "      <th>New Cases</th>\n",
              "    </tr>\n",
              "  </thead>\n",
              "  <tbody>\n",
              "    <tr>\n",
              "      <th>0</th>\n",
              "      <td>Iran</td>\n",
              "      <td>1</td>\n",
              "      <td>18.0</td>\n",
              "      <td>28.0</td>\n",
              "    </tr>\n",
              "    <tr>\n",
              "      <th>1</th>\n",
              "      <td>Iran</td>\n",
              "      <td>2</td>\n",
              "      <td>28.0</td>\n",
              "      <td>43.0</td>\n",
              "    </tr>\n",
              "    <tr>\n",
              "      <th>2</th>\n",
              "      <td>Iran</td>\n",
              "      <td>3</td>\n",
              "      <td>43.0</td>\n",
              "      <td>61.0</td>\n",
              "    </tr>\n",
              "    <tr>\n",
              "      <th>3</th>\n",
              "      <td>Iran</td>\n",
              "      <td>4</td>\n",
              "      <td>61.0</td>\n",
              "      <td>95.0</td>\n",
              "    </tr>\n",
              "    <tr>\n",
              "      <th>4</th>\n",
              "      <td>Iran</td>\n",
              "      <td>5</td>\n",
              "      <td>95.0</td>\n",
              "      <td>139.0</td>\n",
              "    </tr>\n",
              "  </tbody>\n",
              "</table>\n",
              "</div>"
            ],
            "text/plain": [
              "  Country/Region  date  Confirmed  New Cases\n",
              "0           Iran     1       18.0       28.0\n",
              "1           Iran     2       28.0       43.0\n",
              "2           Iran     3       43.0       61.0\n",
              "3           Iran     4       61.0       95.0\n",
              "4           Iran     5       95.0      139.0"
            ]
          },
          "metadata": {
            "tags": []
          },
          "execution_count": 63
        }
      ]
    },
    {
      "cell_type": "code",
      "metadata": {
        "id": "6ElSe2cayZZ1",
        "colab_type": "code",
        "colab": {}
      },
      "source": [
        ""
      ],
      "execution_count": 0,
      "outputs": []
    }
  ]
}