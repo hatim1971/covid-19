{
  "nbformat": 4,
  "nbformat_minor": 0,
  "metadata": {
    "colab": {
      "name": "Covid19_ETL.ipynb",
      "provenance": [],
      "collapsed_sections": [],
      "include_colab_link": true
    },
    "kernelspec": {
      "name": "python3",
      "display_name": "Python 3"
    }
  },
  "cells": [
    {
      "cell_type": "markdown",
      "metadata": {
        "id": "view-in-github",
        "colab_type": "text"
      },
      "source": [
        "<a href=\"https://colab.research.google.com/github/hatim1971/covid-19/blob/master/Covid19_ETL.ipynb\" target=\"_parent\"><img src=\"https://colab.research.google.com/assets/colab-badge.svg\" alt=\"Open In Colab\"/></a>"
      ]
    },
    {
      "cell_type": "markdown",
      "metadata": {
        "id": "s8oA1RexLNmM",
        "colab_type": "text"
      },
      "source": [
        "# Introduction\n",
        "\n",
        "Health organizations are responding to the new outbreak of respiratory disease caused by a novel coronavirus that was first detected in China and which has now been detected in more than 140 locations internationally. The virus has been named “SARS-CoV-2” and the disease it causes has been named “coronavirus disease 2019” (abbreviated “COVID-19”).\n",
        "\n",
        "On January 30, 2020, the International Health Regulations Emergency Committee of the World Health Organization declared the outbreak a “public health emergency of international concernexternal icon”. On March 11, World Health Organization declared the outbreak of the coronavirus as pandemic.\n",
        "\n",
        "Two main strategies emerged to deal with this outbreak, the containment and the mitigation strategies. If the first one has proved its efficiency in China especially in the Hubei, and seems to has a promising results in South Korea and Japan, the second is under experiment in some western countries where authorities are deploying relevant strategies to flatten the curve of COVID-19 spread.\n",
        "\n"
      ]
    },
    {
      "cell_type": "markdown",
      "metadata": {
        "id": "tALeTI94xr7q",
        "colab_type": "text"
      },
      "source": [
        "# **Milestones Week 2**\n",
        "\n",
        "\n",
        "- **Created an ETL Notebook**\n",
        "\n",
        "\n",
        "- **Added Data Cleansing code to the ETL Notebook**\n",
        "\n",
        "\n",
        "- **Created a Feature Creation Notebook**\n",
        "\n",
        "\n",
        "- **Transformed Features**\n",
        "\n",
        "\n",
        "- **Created additional Features**\n",
        "\n"
      ]
    },
    {
      "cell_type": "markdown",
      "metadata": {
        "id": "Fu9KDY2STRmC",
        "colab_type": "text"
      },
      "source": [
        "# **ETL process**\n",
        "## **Data Sources**\n",
        "Data are provided and updated daily by John Hopkins University in the format'.csv'. For each date we have to updated situations in the world. \n",
        "We can of course, found the data for a specific country provided by the relevant authoritative organisation. However, to get one of the most extensive and evolutive database that exist about the covid-19 outbreak, we decided to use the directory of JHU, and perform the necessary data manipulation.\n",
        "\n",
        "## **Necessary data**\n",
        "Data that show the spread of the outbreak since the begining\n",
        "If needed Countries GDP to find correlation between reported cases and GDP. (At this step, we must stress the fact that there are two strategies limited testing (like US, France, Germany), and extensive use of tests (like China, South Korea)\n",
        "Irrelevant data\n",
        "\n",
        "## Nature of Data and frequency of update\n",
        "\n",
        "## **Process ETL description**\n",
        "## **Extract**\n",
        "\n",
        "\n",
        "## **Transform**\n",
        "\n",
        "\n",
        "\n",
        "## **Load**\n"
      ]
    },
    {
      "cell_type": "markdown",
      "metadata": {
        "id": "wmJIL04yUo1Z",
        "colab_type": "text"
      },
      "source": [
        "Let's create a function that will transform dates on a format used in the file paths"
      ]
    },
    {
      "cell_type": "code",
      "metadata": {
        "id": "Jq_rbgulLDzq",
        "colab_type": "code",
        "outputId": "a81366e4-97fb-46ce-9044-2037d19a7a64",
        "colab": {
          "base_uri": "https://localhost:8080/",
          "height": 969
        }
      },
      "source": [
        "import pandas as pd\n",
        "import datetime as dt\n",
        "df_global, df_complete = pd.DataFrame(), pd.DataFrame()\n",
        "\n",
        "#data is available in github and provided by JHU and updated daily in separate files. (one file per day )\n",
        "#the structure of each url can be divided on two parts const_url and date_url\n",
        "const_url=\"https://raw.githubusercontent.com/CSSEGISandData/COVID-19/master/csse_covid_19_data/csse_covid_19_daily_reports/\"\n",
        "\n",
        "# Last update date\n",
        "date_update= '2020-03-17'\n",
        "\n",
        "# this function change time format from yyyy-mm-dd to dd-mm-yyyy\n",
        "import re\n",
        "def date_format(dt):\n",
        "        return re.sub(r'(\\d{4})-(\\d{1,2})-(\\d{1,2})', '\\\\2-\\\\3-\\\\1', dt)\n",
        "\n",
        "\n",
        "# this code generates the urls of data and load daily data\n",
        "timeframe=pd.date_range('2020-01-22', date_update)\n",
        "l=len(timeframe)\n",
        "for i in range(l):\n",
        "  d=str(timeframe[i]).replace(\"00:00:00\", \"\").strip()\n",
        "  dr= date_format(d)\n",
        "  part_url= str(dr)+'.csv'\n",
        "  file_url= const_url + part_url\n",
        "  print(file_url)\n",
        "  dfi=pd.read_csv(file_url, usecols=[1,2,3])\n",
        "  dfic=pd.read_csv(file_url)\n",
        "  df_global=pd.concat([df_global,dfi], sort=False)\n",
        "  df_complete=pd.concat([df_complete,dfic], sort=False)"
      ],
      "execution_count": 2,
      "outputs": [
        {
          "output_type": "stream",
          "text": [
            "https://raw.githubusercontent.com/CSSEGISandData/COVID-19/master/csse_covid_19_data/csse_covid_19_daily_reports/01-22-2020.csv\n",
            "https://raw.githubusercontent.com/CSSEGISandData/COVID-19/master/csse_covid_19_data/csse_covid_19_daily_reports/01-23-2020.csv\n",
            "https://raw.githubusercontent.com/CSSEGISandData/COVID-19/master/csse_covid_19_data/csse_covid_19_daily_reports/01-24-2020.csv\n",
            "https://raw.githubusercontent.com/CSSEGISandData/COVID-19/master/csse_covid_19_data/csse_covid_19_daily_reports/01-25-2020.csv\n",
            "https://raw.githubusercontent.com/CSSEGISandData/COVID-19/master/csse_covid_19_data/csse_covid_19_daily_reports/01-26-2020.csv\n",
            "https://raw.githubusercontent.com/CSSEGISandData/COVID-19/master/csse_covid_19_data/csse_covid_19_daily_reports/01-27-2020.csv\n",
            "https://raw.githubusercontent.com/CSSEGISandData/COVID-19/master/csse_covid_19_data/csse_covid_19_daily_reports/01-28-2020.csv\n",
            "https://raw.githubusercontent.com/CSSEGISandData/COVID-19/master/csse_covid_19_data/csse_covid_19_daily_reports/01-29-2020.csv\n",
            "https://raw.githubusercontent.com/CSSEGISandData/COVID-19/master/csse_covid_19_data/csse_covid_19_daily_reports/01-30-2020.csv\n",
            "https://raw.githubusercontent.com/CSSEGISandData/COVID-19/master/csse_covid_19_data/csse_covid_19_daily_reports/01-31-2020.csv\n",
            "https://raw.githubusercontent.com/CSSEGISandData/COVID-19/master/csse_covid_19_data/csse_covid_19_daily_reports/02-01-2020.csv\n",
            "https://raw.githubusercontent.com/CSSEGISandData/COVID-19/master/csse_covid_19_data/csse_covid_19_daily_reports/02-02-2020.csv\n",
            "https://raw.githubusercontent.com/CSSEGISandData/COVID-19/master/csse_covid_19_data/csse_covid_19_daily_reports/02-03-2020.csv\n",
            "https://raw.githubusercontent.com/CSSEGISandData/COVID-19/master/csse_covid_19_data/csse_covid_19_daily_reports/02-04-2020.csv\n",
            "https://raw.githubusercontent.com/CSSEGISandData/COVID-19/master/csse_covid_19_data/csse_covid_19_daily_reports/02-05-2020.csv\n",
            "https://raw.githubusercontent.com/CSSEGISandData/COVID-19/master/csse_covid_19_data/csse_covid_19_daily_reports/02-06-2020.csv\n",
            "https://raw.githubusercontent.com/CSSEGISandData/COVID-19/master/csse_covid_19_data/csse_covid_19_daily_reports/02-07-2020.csv\n",
            "https://raw.githubusercontent.com/CSSEGISandData/COVID-19/master/csse_covid_19_data/csse_covid_19_daily_reports/02-08-2020.csv\n",
            "https://raw.githubusercontent.com/CSSEGISandData/COVID-19/master/csse_covid_19_data/csse_covid_19_daily_reports/02-09-2020.csv\n",
            "https://raw.githubusercontent.com/CSSEGISandData/COVID-19/master/csse_covid_19_data/csse_covid_19_daily_reports/02-10-2020.csv\n",
            "https://raw.githubusercontent.com/CSSEGISandData/COVID-19/master/csse_covid_19_data/csse_covid_19_daily_reports/02-11-2020.csv\n",
            "https://raw.githubusercontent.com/CSSEGISandData/COVID-19/master/csse_covid_19_data/csse_covid_19_daily_reports/02-12-2020.csv\n",
            "https://raw.githubusercontent.com/CSSEGISandData/COVID-19/master/csse_covid_19_data/csse_covid_19_daily_reports/02-13-2020.csv\n",
            "https://raw.githubusercontent.com/CSSEGISandData/COVID-19/master/csse_covid_19_data/csse_covid_19_daily_reports/02-14-2020.csv\n",
            "https://raw.githubusercontent.com/CSSEGISandData/COVID-19/master/csse_covid_19_data/csse_covid_19_daily_reports/02-15-2020.csv\n",
            "https://raw.githubusercontent.com/CSSEGISandData/COVID-19/master/csse_covid_19_data/csse_covid_19_daily_reports/02-16-2020.csv\n",
            "https://raw.githubusercontent.com/CSSEGISandData/COVID-19/master/csse_covid_19_data/csse_covid_19_daily_reports/02-17-2020.csv\n",
            "https://raw.githubusercontent.com/CSSEGISandData/COVID-19/master/csse_covid_19_data/csse_covid_19_daily_reports/02-18-2020.csv\n",
            "https://raw.githubusercontent.com/CSSEGISandData/COVID-19/master/csse_covid_19_data/csse_covid_19_daily_reports/02-19-2020.csv\n",
            "https://raw.githubusercontent.com/CSSEGISandData/COVID-19/master/csse_covid_19_data/csse_covid_19_daily_reports/02-20-2020.csv\n",
            "https://raw.githubusercontent.com/CSSEGISandData/COVID-19/master/csse_covid_19_data/csse_covid_19_daily_reports/02-21-2020.csv\n",
            "https://raw.githubusercontent.com/CSSEGISandData/COVID-19/master/csse_covid_19_data/csse_covid_19_daily_reports/02-22-2020.csv\n",
            "https://raw.githubusercontent.com/CSSEGISandData/COVID-19/master/csse_covid_19_data/csse_covid_19_daily_reports/02-23-2020.csv\n",
            "https://raw.githubusercontent.com/CSSEGISandData/COVID-19/master/csse_covid_19_data/csse_covid_19_daily_reports/02-24-2020.csv\n",
            "https://raw.githubusercontent.com/CSSEGISandData/COVID-19/master/csse_covid_19_data/csse_covid_19_daily_reports/02-25-2020.csv\n",
            "https://raw.githubusercontent.com/CSSEGISandData/COVID-19/master/csse_covid_19_data/csse_covid_19_daily_reports/02-26-2020.csv\n",
            "https://raw.githubusercontent.com/CSSEGISandData/COVID-19/master/csse_covid_19_data/csse_covid_19_daily_reports/02-27-2020.csv\n",
            "https://raw.githubusercontent.com/CSSEGISandData/COVID-19/master/csse_covid_19_data/csse_covid_19_daily_reports/02-28-2020.csv\n",
            "https://raw.githubusercontent.com/CSSEGISandData/COVID-19/master/csse_covid_19_data/csse_covid_19_daily_reports/02-29-2020.csv\n",
            "https://raw.githubusercontent.com/CSSEGISandData/COVID-19/master/csse_covid_19_data/csse_covid_19_daily_reports/03-01-2020.csv\n",
            "https://raw.githubusercontent.com/CSSEGISandData/COVID-19/master/csse_covid_19_data/csse_covid_19_daily_reports/03-02-2020.csv\n",
            "https://raw.githubusercontent.com/CSSEGISandData/COVID-19/master/csse_covid_19_data/csse_covid_19_daily_reports/03-03-2020.csv\n",
            "https://raw.githubusercontent.com/CSSEGISandData/COVID-19/master/csse_covid_19_data/csse_covid_19_daily_reports/03-04-2020.csv\n",
            "https://raw.githubusercontent.com/CSSEGISandData/COVID-19/master/csse_covid_19_data/csse_covid_19_daily_reports/03-05-2020.csv\n",
            "https://raw.githubusercontent.com/CSSEGISandData/COVID-19/master/csse_covid_19_data/csse_covid_19_daily_reports/03-06-2020.csv\n",
            "https://raw.githubusercontent.com/CSSEGISandData/COVID-19/master/csse_covid_19_data/csse_covid_19_daily_reports/03-07-2020.csv\n",
            "https://raw.githubusercontent.com/CSSEGISandData/COVID-19/master/csse_covid_19_data/csse_covid_19_daily_reports/03-08-2020.csv\n",
            "https://raw.githubusercontent.com/CSSEGISandData/COVID-19/master/csse_covid_19_data/csse_covid_19_daily_reports/03-09-2020.csv\n",
            "https://raw.githubusercontent.com/CSSEGISandData/COVID-19/master/csse_covid_19_data/csse_covid_19_daily_reports/03-10-2020.csv\n",
            "https://raw.githubusercontent.com/CSSEGISandData/COVID-19/master/csse_covid_19_data/csse_covid_19_daily_reports/03-11-2020.csv\n",
            "https://raw.githubusercontent.com/CSSEGISandData/COVID-19/master/csse_covid_19_data/csse_covid_19_daily_reports/03-12-2020.csv\n",
            "https://raw.githubusercontent.com/CSSEGISandData/COVID-19/master/csse_covid_19_data/csse_covid_19_daily_reports/03-13-2020.csv\n",
            "https://raw.githubusercontent.com/CSSEGISandData/COVID-19/master/csse_covid_19_data/csse_covid_19_daily_reports/03-14-2020.csv\n",
            "https://raw.githubusercontent.com/CSSEGISandData/COVID-19/master/csse_covid_19_data/csse_covid_19_daily_reports/03-15-2020.csv\n",
            "https://raw.githubusercontent.com/CSSEGISandData/COVID-19/master/csse_covid_19_data/csse_covid_19_daily_reports/03-16-2020.csv\n",
            "https://raw.githubusercontent.com/CSSEGISandData/COVID-19/master/csse_covid_19_data/csse_covid_19_daily_reports/03-17-2020.csv\n"
          ],
          "name": "stdout"
        }
      ]
    },
    {
      "cell_type": "markdown",
      "metadata": {
        "id": "BsEkTn8FW64r",
        "colab_type": "text"
      },
      "source": [
        "At this step we have raw data that need to be manipulated to fit with our requirements."
      ]
    },
    {
      "cell_type": "code",
      "metadata": {
        "id": "wGZtiPDyWbs8",
        "colab_type": "code",
        "outputId": "2eabb837-449e-4fc8-df89-992e3bff9ce1",
        "colab": {
          "base_uri": "https://localhost:8080/",
          "height": 34
        }
      },
      "source": [
        "df_complete.shape"
      ],
      "execution_count": 3,
      "outputs": [
        {
          "output_type": "execute_result",
          "data": {
            "text/plain": [
              "(6438, 8)"
            ]
          },
          "metadata": {
            "tags": []
          },
          "execution_count": 3
        }
      ]
    },
    {
      "cell_type": "code",
      "metadata": {
        "id": "S0Hhi06Q6Vbo",
        "colab_type": "code",
        "outputId": "978299c1-4334-463b-eaf3-898c081b2930",
        "colab": {
          "base_uri": "https://localhost:8080/",
          "height": 297
        }
      },
      "source": [
        "df_complete.describe()"
      ],
      "execution_count": 4,
      "outputs": [
        {
          "output_type": "execute_result",
          "data": {
            "text/html": [
              "<div>\n",
              "<style scoped>\n",
              "    .dataframe tbody tr th:only-of-type {\n",
              "        vertical-align: middle;\n",
              "    }\n",
              "\n",
              "    .dataframe tbody tr th {\n",
              "        vertical-align: top;\n",
              "    }\n",
              "\n",
              "    .dataframe thead th {\n",
              "        text-align: right;\n",
              "    }\n",
              "</style>\n",
              "<table border=\"1\" class=\"dataframe\">\n",
              "  <thead>\n",
              "    <tr style=\"text-align: right;\">\n",
              "      <th></th>\n",
              "      <th>Confirmed</th>\n",
              "      <th>Deaths</th>\n",
              "      <th>Recovered</th>\n",
              "      <th>Latitude</th>\n",
              "      <th>Longitude</th>\n",
              "    </tr>\n",
              "  </thead>\n",
              "  <tbody>\n",
              "    <tr>\n",
              "      <th>count</th>\n",
              "      <td>6419.000000</td>\n",
              "      <td>5997.000000</td>\n",
              "      <td>6050.000000</td>\n",
              "      <td>3620.000000</td>\n",
              "      <td>3620.000000</td>\n",
              "    </tr>\n",
              "    <tr>\n",
              "      <th>mean</th>\n",
              "      <td>596.093473</td>\n",
              "      <td>20.800067</td>\n",
              "      <td>237.711240</td>\n",
              "      <td>30.235226</td>\n",
              "      <td>7.060384</td>\n",
              "    </tr>\n",
              "    <tr>\n",
              "      <th>std</th>\n",
              "      <td>4907.254626</td>\n",
              "      <td>208.538443</td>\n",
              "      <td>2591.143991</td>\n",
              "      <td>21.391519</td>\n",
              "      <td>86.127614</td>\n",
              "    </tr>\n",
              "    <tr>\n",
              "      <th>min</th>\n",
              "      <td>0.000000</td>\n",
              "      <td>0.000000</td>\n",
              "      <td>0.000000</td>\n",
              "      <td>-41.454500</td>\n",
              "      <td>-157.858400</td>\n",
              "    </tr>\n",
              "    <tr>\n",
              "      <th>25%</th>\n",
              "      <td>2.000000</td>\n",
              "      <td>0.000000</td>\n",
              "      <td>0.000000</td>\n",
              "      <td>23.700000</td>\n",
              "      <td>-76.802100</td>\n",
              "    </tr>\n",
              "    <tr>\n",
              "      <th>50%</th>\n",
              "      <td>12.000000</td>\n",
              "      <td>0.000000</td>\n",
              "      <td>1.000000</td>\n",
              "      <td>35.775522</td>\n",
              "      <td>12.453400</td>\n",
              "    </tr>\n",
              "    <tr>\n",
              "      <th>75%</th>\n",
              "      <td>104.000000</td>\n",
              "      <td>1.000000</td>\n",
              "      <td>15.000000</td>\n",
              "      <td>43.000000</td>\n",
              "      <td>95.995600</td>\n",
              "    </tr>\n",
              "    <tr>\n",
              "      <th>max</th>\n",
              "      <td>67799.000000</td>\n",
              "      <td>3111.000000</td>\n",
              "      <td>56003.000000</td>\n",
              "      <td>71.706900</td>\n",
              "      <td>174.886000</td>\n",
              "    </tr>\n",
              "  </tbody>\n",
              "</table>\n",
              "</div>"
            ],
            "text/plain": [
              "          Confirmed       Deaths     Recovered     Latitude    Longitude\n",
              "count   6419.000000  5997.000000   6050.000000  3620.000000  3620.000000\n",
              "mean     596.093473    20.800067    237.711240    30.235226     7.060384\n",
              "std     4907.254626   208.538443   2591.143991    21.391519    86.127614\n",
              "min        0.000000     0.000000      0.000000   -41.454500  -157.858400\n",
              "25%        2.000000     0.000000      0.000000    23.700000   -76.802100\n",
              "50%       12.000000     0.000000      1.000000    35.775522    12.453400\n",
              "75%      104.000000     1.000000     15.000000    43.000000    95.995600\n",
              "max    67799.000000  3111.000000  56003.000000    71.706900   174.886000"
            ]
          },
          "metadata": {
            "tags": []
          },
          "execution_count": 4
        }
      ]
    },
    {
      "cell_type": "code",
      "metadata": {
        "id": "pg4X89s-WtpO",
        "colab_type": "code",
        "outputId": "41ab709e-c946-42fe-d4fe-f32fd16d5373",
        "colab": {
          "base_uri": "https://localhost:8080/",
          "height": 34
        }
      },
      "source": [
        "df_global.shape"
      ],
      "execution_count": 5,
      "outputs": [
        {
          "output_type": "execute_result",
          "data": {
            "text/plain": [
              "(6438, 3)"
            ]
          },
          "metadata": {
            "tags": []
          },
          "execution_count": 5
        }
      ]
    },
    {
      "cell_type": "markdown",
      "metadata": {
        "id": "Y0D2cvN2o4OP",
        "colab_type": "text"
      },
      "source": [
        "# **Data cleansing**\n",
        "## **Redundant data**\n",
        "redundant data are observed due to the fact that in the beginning of the outbtreak, the updates were performed several times per day. Thus we have to remove this redundant data.\n",
        "\n",
        "## **Incorrect designation**\n",
        "Some countries are entred under different designation for example: \n",
        "- 'South Korea', 'Korea, South'\n",
        "- 'Iran (Islamic Republic of)', Iran"
      ]
    },
    {
      "cell_type": "code",
      "metadata": {
        "id": "zii2FwWbTMdd",
        "colab_type": "code",
        "outputId": "aa138d33-15d5-46ae-ca4a-dd09b6911f46",
        "colab": {
          "base_uri": "https://localhost:8080/",
          "height": 765
        }
      },
      "source": [
        "from termcolor import colored\n",
        "print(colored(\"The total number of coutries where coronavirus is reported is: {}\".format(len(df_global['Country/Region'].unique())),'red', attrs=['reverse', 'blink']))\n",
        "print('\\n')\n",
        "df_global['Country/Region'].unique()"
      ],
      "execution_count": 6,
      "outputs": [
        {
          "output_type": "stream",
          "text": [
            "\u001b[5m\u001b[7m\u001b[31mThe total number of coutries where coronavirus is reported is: 189\u001b[0m\n",
            "\n",
            "\n"
          ],
          "name": "stdout"
        },
        {
          "output_type": "execute_result",
          "data": {
            "text/plain": [
              "array(['Mainland China', 'Hong Kong', 'Macau', 'Taiwan', 'US', 'Japan',\n",
              "       'Thailand', 'South Korea', 'Singapore', 'Philippines', 'Malaysia',\n",
              "       'Vietnam', 'Australia', 'Mexico', 'Brazil', 'Colombia', 'France',\n",
              "       'Nepal', 'Canada', 'Cambodia', 'Sri Lanka', 'Ivory Coast',\n",
              "       'Germany', 'Finland', 'United Arab Emirates', 'India', 'Italy',\n",
              "       'UK', 'Russia', 'Sweden', 'Spain', 'Belgium', 'Others', 'Egypt',\n",
              "       'Iran', 'Israel', 'Lebanon', 'Iraq', 'Oman', 'Afghanistan',\n",
              "       'Bahrain', 'Kuwait', 'Austria', 'Algeria', 'Croatia',\n",
              "       'Switzerland', 'Pakistan', 'Georgia', 'Greece', 'North Macedonia',\n",
              "       'Norway', 'Romania', 'Denmark', 'Estonia', 'Netherlands',\n",
              "       'San Marino', ' Azerbaijan', 'Belarus', 'Iceland', 'Lithuania',\n",
              "       'New Zealand', 'Nigeria', 'North Ireland', 'Ireland', 'Luxembourg',\n",
              "       'Monaco', 'Qatar', 'Ecuador', 'Azerbaijan', 'Czech Republic',\n",
              "       'Armenia', 'Dominican Republic', 'Indonesia', 'Portugal',\n",
              "       'Andorra', 'Latvia', 'Morocco', 'Saudi Arabia', 'Senegal',\n",
              "       'Argentina', 'Chile', 'Jordan', 'Ukraine', 'Saint Barthelemy',\n",
              "       'Hungary', 'Faroe Islands', 'Gibraltar', 'Liechtenstein', 'Poland',\n",
              "       'Tunisia', 'Palestine', 'Bosnia and Herzegovina', 'Slovenia',\n",
              "       'South Africa', 'Bhutan', 'Cameroon', 'Costa Rica', 'Peru',\n",
              "       'Serbia', 'Slovakia', 'Togo', 'Vatican City', 'French Guiana',\n",
              "       'Malta', 'Martinique', 'Republic of Ireland', 'Bulgaria',\n",
              "       'Maldives', 'Bangladesh', 'Moldova', 'Paraguay', 'Albania',\n",
              "       'Cyprus', 'St. Martin', 'Brunei', 'Iran (Islamic Republic of)',\n",
              "       'Republic of Korea', 'Hong Kong SAR', 'Taipei and environs',\n",
              "       'Viet Nam', 'occupied Palestinian territory', 'Macao SAR',\n",
              "       'Russian Federation', 'Republic of Moldova', 'Saint Martin',\n",
              "       'Burkina Faso', 'Channel Islands', 'Holy See', 'Mongolia',\n",
              "       'Panama', 'China', 'Korea, South', 'Cruise Ship', 'United Kingdom',\n",
              "       'Czechia', 'Taiwan*', 'Bolivia', 'Honduras', 'Congo (Kinshasa)',\n",
              "       \"Cote d'Ivoire\", 'Jamaica', 'Reunion', 'Turkey', 'Cuba', 'Guyana',\n",
              "       'Kazakhstan', 'Cayman Islands', 'Guadeloupe', 'Ethiopia', 'Sudan',\n",
              "       'Guinea', 'Antigua and Barbuda', 'Aruba', 'Kenya', 'Uruguay',\n",
              "       'Ghana', 'Jersey', 'Namibia', 'Seychelles', 'Trinidad and Tobago',\n",
              "       'Venezuela', 'Curacao', 'Eswatini', 'Gabon', 'Guatemala',\n",
              "       'Guernsey', 'Mauritania', 'Rwanda', 'Saint Lucia',\n",
              "       'Saint Vincent and the Grenadines', 'Suriname', 'Kosovo',\n",
              "       'Central African Republic', 'Congo (Brazzaville)',\n",
              "       'Equatorial Guinea', 'Uzbekistan', 'Guam', 'Puerto Rico', 'Benin',\n",
              "       'Greenland', 'Liberia', 'Mayotte', 'Republic of the Congo',\n",
              "       'Somalia', 'Tanzania', 'The Bahamas', 'Barbados', 'Montenegro',\n",
              "       'The Gambia'], dtype=object)"
            ]
          },
          "metadata": {
            "tags": []
          },
          "execution_count": 6
        }
      ]
    },
    {
      "cell_type": "code",
      "metadata": {
        "id": "oS9isUbrAsPM",
        "colab_type": "code",
        "colab": {}
      },
      "source": [
        "#Some countries are reported with two or more different names. The objectif of this script is to fix this issue\n",
        "for i in range(df_global.shape[0]):\n",
        "  if df_global.iloc[i,1] == 'Iran (Islamic Republic of)':\n",
        "    df_global.iloc[i,1]='Iran'\n",
        "  if df_complete.iloc[i,1] == 'Iran (Islamic Republic of)':\n",
        "    df_complete.iloc[i,1]='Iran'\n",
        "\n",
        "for i in range(df_global.shape[0]):\n",
        "  if df_global.iloc[i,1] == 'Korea, South':\n",
        "    df_global.iloc[i,1]='South Korea'\n",
        "  if df_complete.iloc[i,1] == 'Korea, South':\n",
        "    df_complete.iloc[i,1]='South Korea'"
      ],
      "execution_count": 0,
      "outputs": []
    },
    {
      "cell_type": "markdown",
      "metadata": {
        "id": "Opx00ty80bjR",
        "colab_type": "text"
      },
      "source": [
        "### **Redundant data cleaning code**"
      ]
    },
    {
      "cell_type": "code",
      "metadata": {
        "id": "NdeYG0uFekRd",
        "colab_type": "code",
        "outputId": "73014633-0c51-4637-d153-3222052b86ca",
        "colab": {
          "base_uri": "https://localhost:8080/",
          "height": 122
        }
      },
      "source": [
        "#create a dataframe that group data by country\n",
        "gc_global=df_global.groupby('Country/Region')\n",
        "\n",
        "# create dataframe of Italy \n",
        "df_it=gc_global.get_group('Italy')\n",
        "df_it.rename(columns={\"Last Update\": \"date\"}, inplace=True)\n",
        "df_it.reset_index(drop=True, inplace=True) # setting drop=True avoid adding new column index\n",
        "\n",
        "# create dataframe of Iran\n",
        "df_ir=gc_global.get_group('Iran')\n",
        "df_ir.rename(columns={\"Last Update\": \"date\"}, inplace=True)\n",
        "df_ir.reset_index(drop=True, inplace=True) # setting drop=True avoid adding new column index\n",
        "\n",
        "# create dataframe of Spain\n",
        "df_sp=gc_global.get_group('Spain')\n",
        "df_sp.rename(columns={\"Last Update\": \"date\"}, inplace=True)\n",
        "df_sp.reset_index(drop=True, inplace=True) # setting drop=True avoid adding new column index"
      ],
      "execution_count": 8,
      "outputs": [
        {
          "output_type": "stream",
          "text": [
            "/usr/local/lib/python3.6/dist-packages/pandas/core/frame.py:4238: SettingWithCopyWarning: \n",
            "A value is trying to be set on a copy of a slice from a DataFrame\n",
            "\n",
            "See the caveats in the documentation: http://pandas.pydata.org/pandas-docs/stable/user_guide/indexing.html#returning-a-view-versus-a-copy\n",
            "  return super().rename(**kwargs)\n"
          ],
          "name": "stderr"
        }
      ]
    },
    {
      "cell_type": "code",
      "metadata": {
        "id": "D6KZ_Ewb1qAX",
        "colab_type": "code",
        "outputId": "8fe84dcf-ad64-48cb-dfc6-49cdcd326612",
        "colab": {
          "base_uri": "https://localhost:8080/",
          "height": 204
        }
      },
      "source": [
        "df_it.head()"
      ],
      "execution_count": 9,
      "outputs": [
        {
          "output_type": "execute_result",
          "data": {
            "text/html": [
              "<div>\n",
              "<style scoped>\n",
              "    .dataframe tbody tr th:only-of-type {\n",
              "        vertical-align: middle;\n",
              "    }\n",
              "\n",
              "    .dataframe tbody tr th {\n",
              "        vertical-align: top;\n",
              "    }\n",
              "\n",
              "    .dataframe thead th {\n",
              "        text-align: right;\n",
              "    }\n",
              "</style>\n",
              "<table border=\"1\" class=\"dataframe\">\n",
              "  <thead>\n",
              "    <tr style=\"text-align: right;\">\n",
              "      <th></th>\n",
              "      <th>Country/Region</th>\n",
              "      <th>date</th>\n",
              "      <th>Confirmed</th>\n",
              "    </tr>\n",
              "  </thead>\n",
              "  <tbody>\n",
              "    <tr>\n",
              "      <th>0</th>\n",
              "      <td>Italy</td>\n",
              "      <td>1/31/2020 23:59</td>\n",
              "      <td>2.0</td>\n",
              "    </tr>\n",
              "    <tr>\n",
              "      <th>1</th>\n",
              "      <td>Italy</td>\n",
              "      <td>1/31/2020 8:15</td>\n",
              "      <td>2.0</td>\n",
              "    </tr>\n",
              "    <tr>\n",
              "      <th>2</th>\n",
              "      <td>Italy</td>\n",
              "      <td>2020-01-31T08:15:53</td>\n",
              "      <td>2.0</td>\n",
              "    </tr>\n",
              "    <tr>\n",
              "      <th>3</th>\n",
              "      <td>Italy</td>\n",
              "      <td>2020-01-31T08:15:53</td>\n",
              "      <td>2.0</td>\n",
              "    </tr>\n",
              "    <tr>\n",
              "      <th>4</th>\n",
              "      <td>Italy</td>\n",
              "      <td>2020-01-31T08:15:53</td>\n",
              "      <td>2.0</td>\n",
              "    </tr>\n",
              "  </tbody>\n",
              "</table>\n",
              "</div>"
            ],
            "text/plain": [
              "  Country/Region                 date  Confirmed\n",
              "0          Italy      1/31/2020 23:59        2.0\n",
              "1          Italy       1/31/2020 8:15        2.0\n",
              "2          Italy  2020-01-31T08:15:53        2.0\n",
              "3          Italy  2020-01-31T08:15:53        2.0\n",
              "4          Italy  2020-01-31T08:15:53        2.0"
            ]
          },
          "metadata": {
            "tags": []
          },
          "execution_count": 9
        }
      ]
    },
    {
      "cell_type": "code",
      "metadata": {
        "id": "s0q5-dAn1t4_",
        "colab_type": "code",
        "outputId": "e4a9eb1e-6639-4cf0-8d70-cd8cdf1eb5a5",
        "colab": {
          "base_uri": "https://localhost:8080/",
          "height": 204
        }
      },
      "source": [
        "df_ir.head()"
      ],
      "execution_count": 10,
      "outputs": [
        {
          "output_type": "execute_result",
          "data": {
            "text/html": [
              "<div>\n",
              "<style scoped>\n",
              "    .dataframe tbody tr th:only-of-type {\n",
              "        vertical-align: middle;\n",
              "    }\n",
              "\n",
              "    .dataframe tbody tr th {\n",
              "        vertical-align: top;\n",
              "    }\n",
              "\n",
              "    .dataframe thead th {\n",
              "        text-align: right;\n",
              "    }\n",
              "</style>\n",
              "<table border=\"1\" class=\"dataframe\">\n",
              "  <thead>\n",
              "    <tr style=\"text-align: right;\">\n",
              "      <th></th>\n",
              "      <th>Country/Region</th>\n",
              "      <th>date</th>\n",
              "      <th>Confirmed</th>\n",
              "    </tr>\n",
              "  </thead>\n",
              "  <tbody>\n",
              "    <tr>\n",
              "      <th>0</th>\n",
              "      <td>Iran</td>\n",
              "      <td>2020-02-19T23:43:02</td>\n",
              "      <td>2.0</td>\n",
              "    </tr>\n",
              "    <tr>\n",
              "      <th>1</th>\n",
              "      <td>Iran</td>\n",
              "      <td>2020-02-20T17:33:02</td>\n",
              "      <td>5.0</td>\n",
              "    </tr>\n",
              "    <tr>\n",
              "      <th>2</th>\n",
              "      <td>Iran</td>\n",
              "      <td>2020-02-21T18:53:02</td>\n",
              "      <td>18.0</td>\n",
              "    </tr>\n",
              "    <tr>\n",
              "      <th>3</th>\n",
              "      <td>Iran</td>\n",
              "      <td>2020-02-22T10:03:05</td>\n",
              "      <td>28.0</td>\n",
              "    </tr>\n",
              "    <tr>\n",
              "      <th>4</th>\n",
              "      <td>Iran</td>\n",
              "      <td>2020-02-23T15:13:15</td>\n",
              "      <td>43.0</td>\n",
              "    </tr>\n",
              "  </tbody>\n",
              "</table>\n",
              "</div>"
            ],
            "text/plain": [
              "  Country/Region                 date  Confirmed\n",
              "0           Iran  2020-02-19T23:43:02        2.0\n",
              "1           Iran  2020-02-20T17:33:02        5.0\n",
              "2           Iran  2020-02-21T18:53:02       18.0\n",
              "3           Iran  2020-02-22T10:03:05       28.0\n",
              "4           Iran  2020-02-23T15:13:15       43.0"
            ]
          },
          "metadata": {
            "tags": []
          },
          "execution_count": 10
        }
      ]
    },
    {
      "cell_type": "code",
      "metadata": {
        "id": "73QejeA51xEy",
        "colab_type": "code",
        "outputId": "a6739a57-40f8-45da-b2bb-f1d02f3dd006",
        "colab": {
          "base_uri": "https://localhost:8080/",
          "height": 204
        }
      },
      "source": [
        "df_sp.head()"
      ],
      "execution_count": 11,
      "outputs": [
        {
          "output_type": "execute_result",
          "data": {
            "text/html": [
              "<div>\n",
              "<style scoped>\n",
              "    .dataframe tbody tr th:only-of-type {\n",
              "        vertical-align: middle;\n",
              "    }\n",
              "\n",
              "    .dataframe tbody tr th {\n",
              "        vertical-align: top;\n",
              "    }\n",
              "\n",
              "    .dataframe thead th {\n",
              "        text-align: right;\n",
              "    }\n",
              "</style>\n",
              "<table border=\"1\" class=\"dataframe\">\n",
              "  <thead>\n",
              "    <tr style=\"text-align: right;\">\n",
              "      <th></th>\n",
              "      <th>Country/Region</th>\n",
              "      <th>date</th>\n",
              "      <th>Confirmed</th>\n",
              "    </tr>\n",
              "  </thead>\n",
              "  <tbody>\n",
              "    <tr>\n",
              "      <th>0</th>\n",
              "      <td>Spain</td>\n",
              "      <td>2/1/2020 2:13</td>\n",
              "      <td>1.0</td>\n",
              "    </tr>\n",
              "    <tr>\n",
              "      <th>1</th>\n",
              "      <td>Spain</td>\n",
              "      <td>2020-02-01T23:43:02</td>\n",
              "      <td>1.0</td>\n",
              "    </tr>\n",
              "    <tr>\n",
              "      <th>2</th>\n",
              "      <td>Spain</td>\n",
              "      <td>2020-02-01T23:43:02</td>\n",
              "      <td>1.0</td>\n",
              "    </tr>\n",
              "    <tr>\n",
              "      <th>3</th>\n",
              "      <td>Spain</td>\n",
              "      <td>2020-02-01T23:43:02</td>\n",
              "      <td>1.0</td>\n",
              "    </tr>\n",
              "    <tr>\n",
              "      <th>4</th>\n",
              "      <td>Spain</td>\n",
              "      <td>2020-02-01T23:43:02</td>\n",
              "      <td>1.0</td>\n",
              "    </tr>\n",
              "  </tbody>\n",
              "</table>\n",
              "</div>"
            ],
            "text/plain": [
              "  Country/Region                 date  Confirmed\n",
              "0          Spain        2/1/2020 2:13        1.0\n",
              "1          Spain  2020-02-01T23:43:02        1.0\n",
              "2          Spain  2020-02-01T23:43:02        1.0\n",
              "3          Spain  2020-02-01T23:43:02        1.0\n",
              "4          Spain  2020-02-01T23:43:02        1.0"
            ]
          },
          "metadata": {
            "tags": []
          },
          "execution_count": 11
        }
      ]
    },
    {
      "cell_type": "markdown",
      "metadata": {
        "id": "ZblX_sAa12ea",
        "colab_type": "text"
      },
      "source": [
        "Now it's time to drop redundant data and make some harmonization between the three different dataframes (Iran, Italy and Spain). This step will allow to identify day 1 for each country."
      ]
    },
    {
      "cell_type": "code",
      "metadata": {
        "id": "cjrROXpL1-BZ",
        "colab_type": "code",
        "outputId": "732829ed-c979-4f59-f6db-e07a31d11de8",
        "colab": {
          "base_uri": "https://localhost:8080/",
          "height": 122
        }
      },
      "source": [
        "df_it.drop(df_it.index[0:21], inplace=True)\n",
        "df_sp.drop(df_sp.index[0:26], inplace=True)\n",
        "df_ir.drop(df_ir.index[0:2], inplace=True)\n"
      ],
      "execution_count": 13,
      "outputs": [
        {
          "output_type": "stream",
          "text": [
            "/usr/local/lib/python3.6/dist-packages/pandas/core/frame.py:4117: SettingWithCopyWarning: \n",
            "A value is trying to be set on a copy of a slice from a DataFrame\n",
            "\n",
            "See the caveats in the documentation: http://pandas.pydata.org/pandas-docs/stable/user_guide/indexing.html#returning-a-view-versus-a-copy\n",
            "  errors=errors,\n"
          ],
          "name": "stderr"
        }
      ]
    },
    {
      "cell_type": "code",
      "metadata": {
        "id": "3ffzPtm0hiuX",
        "colab_type": "code",
        "outputId": "d7e79ac2-d083-4556-a458-d6b29fc6d82b",
        "colab": {
          "base_uri": "https://localhost:8080/",
          "height": 204
        }
      },
      "source": [
        "df_it.head()"
      ],
      "execution_count": 14,
      "outputs": [
        {
          "output_type": "execute_result",
          "data": {
            "text/html": [
              "<div>\n",
              "<style scoped>\n",
              "    .dataframe tbody tr th:only-of-type {\n",
              "        vertical-align: middle;\n",
              "    }\n",
              "\n",
              "    .dataframe tbody tr th {\n",
              "        vertical-align: top;\n",
              "    }\n",
              "\n",
              "    .dataframe thead th {\n",
              "        text-align: right;\n",
              "    }\n",
              "</style>\n",
              "<table border=\"1\" class=\"dataframe\">\n",
              "  <thead>\n",
              "    <tr style=\"text-align: right;\">\n",
              "      <th></th>\n",
              "      <th>Country/Region</th>\n",
              "      <th>date</th>\n",
              "      <th>Confirmed</th>\n",
              "    </tr>\n",
              "  </thead>\n",
              "  <tbody>\n",
              "    <tr>\n",
              "      <th>21</th>\n",
              "      <td>Italy</td>\n",
              "      <td>2020-02-21T23:33:06</td>\n",
              "      <td>20.0</td>\n",
              "    </tr>\n",
              "    <tr>\n",
              "      <th>22</th>\n",
              "      <td>Italy</td>\n",
              "      <td>2020-02-22T23:43:02</td>\n",
              "      <td>62.0</td>\n",
              "    </tr>\n",
              "    <tr>\n",
              "      <th>23</th>\n",
              "      <td>Italy</td>\n",
              "      <td>2020-02-23T23:43:02</td>\n",
              "      <td>155.0</td>\n",
              "    </tr>\n",
              "    <tr>\n",
              "      <th>24</th>\n",
              "      <td>Italy</td>\n",
              "      <td>2020-02-24T23:43:01</td>\n",
              "      <td>229.0</td>\n",
              "    </tr>\n",
              "    <tr>\n",
              "      <th>25</th>\n",
              "      <td>Italy</td>\n",
              "      <td>2020-02-25T18:55:32</td>\n",
              "      <td>322.0</td>\n",
              "    </tr>\n",
              "  </tbody>\n",
              "</table>\n",
              "</div>"
            ],
            "text/plain": [
              "   Country/Region                 date  Confirmed\n",
              "21          Italy  2020-02-21T23:33:06       20.0\n",
              "22          Italy  2020-02-22T23:43:02       62.0\n",
              "23          Italy  2020-02-23T23:43:02      155.0\n",
              "24          Italy  2020-02-24T23:43:01      229.0\n",
              "25          Italy  2020-02-25T18:55:32      322.0"
            ]
          },
          "metadata": {
            "tags": []
          },
          "execution_count": 14
        }
      ]
    },
    {
      "cell_type": "markdown",
      "metadata": {
        "id": "Z6wiDXB6X5AY",
        "colab_type": "text"
      },
      "source": [
        "# **Evolution of COVID-19 in Italy, Spain and Iran**\n",
        "### The goal of this part is to see the consistency of data, identify incoherent information and set Day 1 for each country which is a kind of scaling.\n"
      ]
    },
    {
      "cell_type": "markdown",
      "metadata": {
        "id": "nkZYS-GXEA_8",
        "colab_type": "text"
      },
      "source": [
        "## Scaling time series data and identifying day 1\n",
        "A specific date in itself isn't relevant, because the spread of the COVID-19 pandemic depends on several parameters and strategies deployed by countries. Thus instead of using calendar date, we will use a common reference day 1 equals nearly 20 confirmed cases. This section is a part of feature creation since we will transform time series in such way that allow  relevant data analysis and modeling."
      ]
    },
    {
      "cell_type": "code",
      "metadata": {
        "id": "ThmLLywTHxv5",
        "colab_type": "code",
        "colab": {}
      },
      "source": [
        "# Scaling datetime for Iran, day1 = 2020-02-21\n",
        "from datetime import datetime,timedelta\n",
        "ev_ir=df_ir.copy()\n",
        "Format = '%Y-%m-%dT%H:%M:%S'\n",
        "datelist = ev_ir['date']\n",
        "ev_ir['date'] = datelist.map(lambda x : (datetime.strptime(x, Format)- datetime.strptime(\"2020-02-20T00:00:00\", Format)).days  )\n",
        "\n",
        "# Scaling datetime for Italy, day1 = 2020-02-21\n",
        "from datetime import datetime,timedelta\n",
        "ev_it=df_it.copy()\n",
        "Format = '%Y-%m-%dT%H:%M:%S'\n",
        "datelist = ev_it['date']\n",
        "ev_it['date'] = datelist.map(lambda x : (datetime.strptime(x, Format)- datetime.strptime(\"2020-02-20T00:00:00\", Format)).days)\n",
        "\n",
        "\n",
        "# Scaling datetime for Spain, day1 = 2020-02-27\n",
        "from datetime import datetime,timedelta\n",
        "ev_esp=df_sp.copy()\n",
        "Format = '%Y-%m-%dT%H:%M:%S'\n",
        "datelist = ev_esp['date']\n",
        "ev_esp['date'] = datelist.map(lambda x : (datetime.strptime(x, Format)- datetime.strptime(\"2020-02-26T00:00:00\", Format)).days)"
      ],
      "execution_count": 0,
      "outputs": []
    },
    {
      "cell_type": "code",
      "metadata": {
        "id": "Bcqnz_OtgqiB",
        "colab_type": "code",
        "colab": {}
      },
      "source": [
        "ev_esp.reset_index(inplace=True, drop=True)"
      ],
      "execution_count": 0,
      "outputs": []
    },
    {
      "cell_type": "code",
      "metadata": {
        "id": "JTnVBMMQnpcD",
        "colab_type": "code",
        "colab": {}
      },
      "source": [
        "ev_esp.drop(ev_esp.index[14], inplace=True)"
      ],
      "execution_count": 0,
      "outputs": []
    },
    {
      "cell_type": "code",
      "metadata": {
        "id": "YckdVJEaiNek",
        "colab_type": "code",
        "colab": {}
      },
      "source": [
        "ev_it.reset_index(inplace=True, drop=True)\n",
        "ev_it.iloc[[20],[1]]=21\n",
        "ev_it.iloc[[21],[1]]=22\n",
        "ev_it.iloc[[22],[1]]=23\n",
        "ev_it.iloc[[23],[1]]=24"
      ],
      "execution_count": 0,
      "outputs": []
    },
    {
      "cell_type": "code",
      "metadata": {
        "id": "8pTMc56nDn_m",
        "colab_type": "code",
        "colab": {}
      },
      "source": [
        "ev_ir.reset_index(inplace=True, drop=True)\n",
        "#Additional data cleaning:some data were incorrect and need to be corrected\n",
        "ev_ir.iloc[[18],[1]]=19\n",
        "ev_ir.iloc[[19],[1]]=20\n",
        "ev_ir.iloc[[20],[1]]=21\n",
        "ev_ir.iloc[[21],[1]]=22\n",
        "ev_ir.iloc[[22],[1]]=23\n",
        "ev_ir.iloc[[23],[1]]=24\n",
        "ev_ir.iloc[[24],[1]]=25"
      ],
      "execution_count": 0,
      "outputs": []
    },
    {
      "cell_type": "code",
      "metadata": {
        "id": "Ee_Mv1cCDcHW",
        "colab_type": "code",
        "colab": {}
      },
      "source": [
        "from google.colab import files\n",
        "ev_esp.to_csv('spain-cov.csv') \n",
        "files.download('spain-cov.csv')\n",
        "ev_it.to_csv('italy-cov.csv') \n",
        "files.download('italy-cov.csv')\n",
        "ev_ir.to_csv('iran-cov.csv') \n",
        "files.download('iran-cov.csv')"
      ],
      "execution_count": 0,
      "outputs": []
    },
    {
      "cell_type": "markdown",
      "metadata": {
        "id": "4TtLHDtNpNFL",
        "colab_type": "text"
      },
      "source": [
        "# **Data Visualization**"
      ]
    },
    {
      "cell_type": "code",
      "metadata": {
        "id": "XMA9pQrEpW2q",
        "colab_type": "code",
        "outputId": "87afd545-4d02-4aab-fcc5-1f0d15866c04",
        "colab": {
          "base_uri": "https://localhost:8080/",
          "height": 641
        }
      },
      "source": [
        "# Import `pyplot` from `matplotlib`\n",
        "import matplotlib.pyplot as plt\n",
        "%matplotlib inline\n",
        "\n",
        "# Initialize the plot\n",
        "fig = plt.figure(figsize=(40,10))\n",
        "ax1 = fig.add_subplot(121)\n",
        "\n",
        "\n",
        "# or replace the three lines of code above by the following line: \n",
        "#fig, ax1 = plt.subplots(1, figsize=(40,10), color=['red'])\n",
        "\n",
        "# Plot the data\n",
        "ax1.bar(ev_it['date'],ev_it['Confirmed'])\n",
        "\n",
        "# Plot Legend\n",
        "plt.title(\"Evolution of COVID-19 in Italy\")\n",
        "plt.xlabel(\"Days (from day1)\")\n",
        "plt.ylabel(\"Time taken (Confirmed cases)\")\n",
        "\n",
        "\n",
        "# Show the plot\n",
        "plt.show()"
      ],
      "execution_count": 38,
      "outputs": [
        {
          "output_type": "display_data",
          "data": {
            "image/png": "[encoded data removed]",
            "text/plain": [
              "<Figure size 2880x720 with 1 Axes>"
            ]
          },
          "metadata": {
            "tags": []
          }
        }
      ]
    },
    {
      "cell_type": "code",
      "metadata": {
        "id": "b0Nk61c2MLXk",
        "colab_type": "code",
        "outputId": "d528306a-815c-4c53-9dd1-6ec218d7c511",
        "colab": {
          "base_uri": "https://localhost:8080/",
          "height": 641
        }
      },
      "source": [
        "# Import `pyplot` from `matplotlib`\n",
        "import matplotlib.pyplot as plt\n",
        "%matplotlib inline\n",
        "\n",
        "# Initialize the plot\n",
        "fig = plt.figure(figsize=(40,10))\n",
        "ax1 = fig.add_subplot(121)\n",
        "\n",
        "\n",
        "# or replace the three lines of code above by the following line: \n",
        "#fig, ax1 = plt.subplots(1, figsize=(40,10))\n",
        "\n",
        "# Plot the data\n",
        "ax1.bar(ev_ir['date'],ev_ir['Confirmed'])\n",
        "\n",
        "# Plot Legend\n",
        "plt.title(\"Evolution of COVID-19 in Iran\")\n",
        "plt.xlabel(\"Days (from day1)\")\n",
        "plt.ylabel(\"Time taken (Confirmed cases)\")\n",
        "\n",
        "\n",
        "# Show the plot\n",
        "plt.show()"
      ],
      "execution_count": 39,
      "outputs": [
        {
          "output_type": "display_data",
          "data": {
            "image/png": "[encoded data removed]",
            "text/plain": [
              "<Figure size 2880x720 with 1 Axes>"
            ]
          },
          "metadata": {
            "tags": []
          }
        }
      ]
    },
    {
      "cell_type": "code",
      "metadata": {
        "id": "Kqice_bgNWHb",
        "colab_type": "code",
        "outputId": "ebdd64bc-e6d9-4bfc-c618-3c76638fdbc6",
        "colab": {
          "base_uri": "https://localhost:8080/",
          "height": 641
        }
      },
      "source": [
        "# Import `pyplot` from `matplotlib`\n",
        "import matplotlib.pyplot as plt\n",
        "%matplotlib inline\n",
        "\n",
        "# Initialize the plot\n",
        "fig = plt.figure(figsize=(40,10))\n",
        "ax1 = fig.add_subplot(121)\n",
        "\n",
        "\n",
        "# or replace the three lines of code above by the following line: \n",
        "#fig, ax1 = plt.subplots(1, figsize=(40,10))\n",
        "\n",
        "# Plot the data\n",
        "ax1.bar(ev_esp['date'],ev_esp['Confirmed'])\n",
        "\n",
        "# Plot Legend\n",
        "plt.title(\"Evolution of COVID-19 in Spain\")\n",
        "plt.xlabel(\"Days (from day1)\")\n",
        "plt.ylabel(\"Time taken (Confirmed cases)\")\n",
        "\n",
        "\n",
        "# Show the plot\n",
        "plt.show()"
      ],
      "execution_count": 41,
      "outputs": [
        {
          "output_type": "display_data",
          "data": {
            "image/png": "[encoded data removed]",
            "text/plain": [
              "<Figure size 2880x720 with 1 Axes>"
            ]
          },
          "metadata": {
            "tags": []
          }
        }
      ]
    }
  ]
}